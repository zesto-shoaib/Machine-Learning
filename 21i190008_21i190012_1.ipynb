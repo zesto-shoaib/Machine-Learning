{
  "cells": [
    {
      "cell_type": "markdown",
      "metadata": {
        "id": "AInSTQiu2Xrd"
      },
      "source": [
        "#**EE769 Introduction to Machine Learning**\n",
        "\n",
        "#Assignment 1: Gradient Descent, Linear Regression, and Regularization\n",
        "\n",
        "\n",
        "**Template and Instructions**\n",
        "\n",
        "\n",
        "\n",
        "1. Up to two people can team up, but only one should submit, and both should understand the entire code.\n",
        "2. Every line of code should end in a comment explaining the line\n",
        "3. It is recommended to solve the assignment in Google Colab.\n",
        "Write your roll no.s separated by commas here: 21i190008, 21i190012\n",
        "4. Write your names here: Yannick Furtado, Shoaib Ahmad\n",
        "5. There are two parts to the assignment. In the Part 1, the code format has to be strictly followed to enable auto-grading. In the second part, you can be creative.\n",
        "6. **You can discuss with other groups or refer to the internet without being penalized, but you cannot copy their code and modify it. Write every line of code and comment on your own.**"
      ]
    },
    {
      "cell_type": "markdown",
      "metadata": {
        "id": "MgJyRJbE2Xrj"
      },
      "source": [
        "#**Part 1 begins ...**\n",
        "**Instructions to be strictly followed:**\n",
        "\n",
        "1. Do not add any code cells or markdown cells until the end of this part. Especially, do not change the blocks that say \"TEST CASES, DO NOT CHANGE\"\n",
        "2. In all other cells only add code where it says \"CODE HERE\".\n",
        "3. If you encounter any raise NotImplementedError() calls you may comment them out.\n",
        "\n",
        "We cannot ensure correct grading if you change anything else, and you may be penalised for not following these instructions."
      ]
    },
    {
      "cell_type": "markdown",
      "metadata": {
        "id": "KxsFuUKe2Xrj"
      },
      "source": [
        "## Import Statements"
      ]
    },
    {
      "cell_type": "code",
      "execution_count": 1,
      "metadata": {
        "id": "535Mg8BS2Xrk"
      },
      "outputs": [],
      "source": [
        "#importing required libraries\n",
        "\n",
        "import numpy as np\n",
        "import pandas as pd\n",
        "from matplotlib import pyplot as plt"
      ]
    },
    {
      "cell_type": "markdown",
      "metadata": {
        "id": "jPyOZjkN2Xrl"
      },
      "source": [
        "## Normalize function \n",
        "\n"
      ]
    },
    {
      "cell_type": "code",
      "execution_count": 2,
      "metadata": {
        "id": "_hvMRQp92Xrm"
      },
      "outputs": [],
      "source": [
        "def Normalize(X): # Output should be a normalized data matrix of the same dimension\n",
        "    '''\n",
        "    Normalize all columns of X using mean and standard deviation\n",
        "    '''\n",
        "    # YOUR CODE HERE\n",
        "    column_means = X.mean(axis = 0) #storing means of each column in column_means, axis = 0 gives means w.r.t each column\n",
        "    column_std = X.std(axis = 0) #storing standard deviation of each column in column_std\n",
        "\n",
        "    normalized_X = (X-column_means)/column_std #normalizing by subtracting mean of each column from each entry in respective columns and then dividin by respective std. deviations\n",
        "    return normalized_X #returning normalized X\n",
        "    \n",
        "    #raise NotImplementedError()"
      ]
    },
    {
      "cell_type": "code",
      "execution_count": 3,
      "metadata": {
        "id": "64IrBASr2Xrm"
      },
      "outputs": [],
      "source": [
        "'''\n",
        "TEST CASES, DO NOT CHANGE\n",
        "'''\n",
        "''' case 1 - 1 dimensional array'''\n",
        "#X=np.array([[1,2,3],[3,4,5],[7,8,9]])\n",
        "X1=np.array([1,2,3])\n",
        "np.testing.assert_array_almost_equal(Normalize(X1),np.array([-1.224,  0.      ,  1.224]),decimal=3)\n",
        "''' case 2 - 2 dimensional array'''\n",
        "X2=np.array([[4,7,6],[3,8,9],[5,11,10]])\n",
        "np.testing.assert_array_almost_equal(Normalize(X2),np.array([[ 0.  , -0.980581, -1.372813],[-1.224745, -0.392232,  0.392232],[ 1.224745,  1.372813,  0.980581]]))\n",
        "''' case 3 - 1 dimensional array with float'''\n",
        "X3=np.array([5.5,6.7,3.2,6.7])\n",
        "np.testing.assert_array_almost_equal(Normalize(X3),np.array([-0.017,  0.822, -1.627,  0.822]),decimal=3)"
      ]
    },
    {
      "cell_type": "markdown",
      "metadata": {
        "id": "18GUS3zl2Xrn"
      },
      "source": [
        "## Prediction Function\n",
        "\n",
        "Given X and w, compute the predicted output. Do not forget to add 1's in X"
      ]
    },
    {
      "cell_type": "code",
      "execution_count": 4,
      "metadata": {
        "id": "U46HAfBO2Xro"
      },
      "outputs": [],
      "source": [
        "def Prediction (X, w): # Output should be a prediction vector y\n",
        "    '''\n",
        "    Compute Prediction given an input datamatrix X and weight vecor w. Output y = [X 1]w where 1 is a vector of all 1s \n",
        "    '''\n",
        "    # YOUR CODE HERE\n",
        "    ones = np.array([1 for i in range(len(X))]) #creating vector of 1s to attach to X\n",
        "    x_ = np.concatenate([X,ones.reshape(-1,1)],axis=1) #Creating augmented matrix [X 1]\n",
        "    \n",
        "    return np.dot(x_,w) #returning the predicted vector\n",
        "    #raise NotImplementedError()\n"
      ]
    },
    {
      "cell_type": "code",
      "execution_count": 5,
      "metadata": {
        "id": "UV2PwVF02Xrp"
      },
      "outputs": [],
      "source": [
        "'''\n",
        "TEST CASES, DO NOT CHANGE\n",
        "'''\n",
        "''' case 1 - Known input output matrix and weights 1'''\n",
        "X1 = np.array([[3,2],[1,1]])\n",
        "w1 = np.array([2,1,1]) \n",
        "np.testing.assert_array_equal(Prediction(X1,w1),np.array([9,4]))\n"
      ]
    },
    {
      "cell_type": "markdown",
      "metadata": {
        "id": "HEPcb_Ak2Xrq"
      },
      "source": [
        "## Loss Functions\n",
        "\n",
        "Code the four  loss functions:\n",
        "\n",
        "1. MSE loss is only for the error\n",
        "2. MAE loss is only for the error\n",
        "3. L2 loss is for MSE and L2 regularization, and can call MSE loss\n",
        "4. L1 loss is for MSE and L1 regularization, and can call MSE loss"
      ]
    },
    {
      "cell_type": "code",
      "execution_count": 6,
      "metadata": {
        "id": "z5y-SpIh2Xrr"
      },
      "outputs": [],
      "source": [
        "\n",
        "def MSE_Loss (X, t, w, lamda =0): # Ouput should be a single number\n",
        "    '''\n",
        "    lamda=0 is a default argument to prevent errors if you pass lamda to a function that doesn't need it by mistake. \n",
        "    This allows us to call all loss functions with the same input format.\n",
        "    \n",
        "    You are encouraged read about default arguments by yourself online if you're not familiar.\n",
        "    '''\n",
        "    # YOUR CODE HERE\n",
        "    predicted = Prediction(X,w) #storing the predicted vector\n",
        "    mse = np.mean((predicted - t)**2) #calculating mean squared error by subtracting target value from each predicted value, squaring the resultant and taking a mean\n",
        "\n",
        "    return mse #returning mse\n",
        "\n",
        "\n",
        "    #raise NotImplementedError()"
      ]
    },
    {
      "cell_type": "code",
      "execution_count": 7,
      "metadata": {
        "id": "0sh3-Xz52Xrs"
      },
      "outputs": [],
      "source": [
        "'''\n",
        "TEST CASES, DO NOT CHANGE\n",
        "'''\n",
        "''' case 1 '''\n",
        "X=np.array([[3,6,5],[4.5,6.6,6]])\n",
        "t=np.array([4,5.5])\n",
        "w=np.array([2,-1,0.5,1])\n",
        "np.testing.assert_almost_equal(MSE_Loss(X,t,w),0.53,decimal=3)\n"
      ]
    },
    {
      "cell_type": "code",
      "execution_count": 8,
      "metadata": {
        "id": "eQR3q7DJ2Xrs"
      },
      "outputs": [],
      "source": [
        "def MAE_Loss (X, t, w, lamda = 0): # Output should be a single number\n",
        "    # YOUR CODE HERE\n",
        "    predicted = Prediction(X,w) #storing the predicted vector\n",
        "    mae = np.mean(abs(predicted-t)) #calculating mean absolute error by subtracting target value from predicted value, taking its absolute value and taking mean\n",
        "\n",
        "    return mae #returning mae\n",
        "\n",
        "    #raise NotImplementedError()?"
      ]
    },
    {
      "cell_type": "code",
      "execution_count": 9,
      "metadata": {
        "id": "1ugqcO9y2Xrt"
      },
      "outputs": [],
      "source": [
        "'''\n",
        "TEST CASES, DO NOT CHANGE\n",
        "'''\n",
        "''' case 1 '''\n",
        "X=np.array([[3,6,5],[4.5,6.6,6]])\n",
        "t=np.array([4,5.5])\n",
        "w=np.array([2,-1,0.5,1])\n",
        "np.testing.assert_almost_equal(MAE_Loss(X,t,w),0.700,decimal=3)\n"
      ]
    },
    {
      "cell_type": "code",
      "execution_count": 10,
      "metadata": {
        "id": "M7_GBmoq2Xrt"
      },
      "outputs": [],
      "source": [
        "def L2_Loss (X, t, w, lamda=0): # Output should be a single number\n",
        "    ''' Need to specify what inputs are'''\n",
        "    # YOUR CODE HERE\n",
        "\n",
        "    mse = MSE_Loss(X,t,w) #storing mse by calling MSE_Loss function\n",
        "    l2_norm_penalized = lamda*np.sqrt(sum(w[:-1]**2)) #calculating the penalized l2 norm by multiplying lamda to the l2 norm of weight vector except bias\n",
        "\n",
        "    return mse + l2_norm_penalized #returning the sum of mse and penalized l2 norm\n",
        "    \n",
        "    #raise NotImplementedError()"
      ]
    },
    {
      "cell_type": "code",
      "execution_count": 11,
      "metadata": {
        "id": "1NMGlaiw2Xrt"
      },
      "outputs": [],
      "source": [
        "'''\n",
        "TEST CASES, DO NOT CHANGE\n",
        "'''\n",
        "''' case 1 '''\n",
        "X=np.array([[3,6,5],[4.5,6.6,6]])\n",
        "t=np.array([4,5.5])\n",
        "w=np.array([2,-1,0.5,1])\n",
        "np.testing.assert_almost_equal(L2_Loss(X,t,w,0.5),1.675,decimal=3)\n"
      ]
    },
    {
      "cell_type": "code",
      "execution_count": 12,
      "metadata": {
        "id": "7_1fYYT62Xru"
      },
      "outputs": [],
      "source": [
        "def L1_Loss (X, t, w, lamda): # Output should be a single number\n",
        "    # YOUR CODE HERE\n",
        "    mse = MSE_Loss(X,t,w) #storing mse from MSE_Loss function\n",
        "    l1_norm_penalized = lamda*sum(abs(w[:-1])) #calculating penalized l1 norm by multiplying lamda to l1 norm of weight vector except bias\n",
        "\n",
        "    return mse + l1_norm_penalized #retunring sum of mse and penalized l1 norm\n",
        "\n",
        "    #raise NotImplementedError()"
      ]
    },
    {
      "cell_type": "code",
      "execution_count": 13,
      "metadata": {
        "id": "6qq5ESD-2Xru"
      },
      "outputs": [],
      "source": [
        "'''\n",
        "TEST CASES, DO NOT CHANGE\n",
        "'''\n",
        "''' case 1 '''\n",
        "X=np.array([[3,6,5],[4.5,6.6,6]])\n",
        "t=np.array([4,5.5])\n",
        "w=np.array([2,-1,0.5,1])\n",
        "np.testing.assert_almost_equal(L1_Loss(X,t,w,0.5),2.280,decimal=3)\n"
      ]
    },
    {
      "cell_type": "code",
      "execution_count": 14,
      "metadata": {
        "id": "WVEPZHTy2Xru"
      },
      "outputs": [],
      "source": [
        "def NRMSE_Metric (X, t, w, lamda=0): # Output should be a single number. RMSE/std_dev(t)\n",
        "    # YOUR CODE HERE\n",
        "    err = np.sqrt(MSE_Loss(X,t,w)) #Calculating root mean squared error\n",
        "    st = np.std(t) #Calculating std dev of target, to normalise with\n",
        "\n",
        "    return err/st #returning the normalized rmse"
      ]
    },
    {
      "cell_type": "code",
      "execution_count": 15,
      "metadata": {
        "id": "fY--J2j62Xrv"
      },
      "outputs": [],
      "source": [
        "'''\n",
        "TEST CASES, DO NOT CHANGE\n",
        "'''\n",
        "''' Test case 1 '''\n",
        "X=np.array([[3,6,5],[4.5,6.6,6]])\n",
        "t=np.array([4,5.5])\n",
        "w=np.array([2,-1,0.5,1])\n",
        "np.testing.assert_almost_equal(NRMSE_Metric(X,t,w,0.5),0.970,decimal=3)\n"
      ]
    },
    {
      "cell_type": "markdown",
      "metadata": {
        "id": "6frk1Uib2Xrv"
      },
      "source": [
        "## Gradient function\n",
        "Each Loss function will have its own gradient function:\n",
        "\n",
        "1. MSE gradient is only for the error\n",
        "2. MAE gradient is only for the error\n",
        "3. L2 gradient is for MSE and L2 regularization, and can call MSE gradient\n",
        "4. L1 gradient is for MSE and L1 regularization, and can call MSE gradient"
      ]
    },
    {
      "cell_type": "code",
      "execution_count": 16,
      "metadata": {
        "id": "ETud6M2D2Xrv"
      },
      "outputs": [],
      "source": [
        "def MSE_Gradient (X, t, w, lamda=0):\n",
        "    # YOUR CODE HERE\n",
        "    predicted = Prediction(X,w) #storing predicted vector from Prediction function\n",
        "    X = np.c_[X, np.ones(X.shape[0])] #adding a column of 1s in the matrix X\n",
        "\n",
        "    return 2*(np.dot((predicted-t),X))/X.shape[0] #returning the gradient of MSE through analytical solution\n",
        "    \n",
        "    #raise NotImplementedError()"
      ]
    },
    {
      "cell_type": "code",
      "execution_count": 17,
      "metadata": {
        "id": "_cxR6zxi2Xrw"
      },
      "outputs": [],
      "source": [
        "'''\n",
        "TEST CASES, DO NOT CHANGE\n",
        "'''\n",
        "''' case 1 '''\n",
        "X=np.array([[3,6,5],[4.5,6.6,6]])\n",
        "t=np.array([4,5.5])\n",
        "w=np.array([2,-1,0.5,1])\n",
        "np.testing.assert_array_almost_equal(MSE_Gradient(X,t,w),np.array([2.55, 2.94, 2.9 , 0.4 ]),decimal=3)\n"
      ]
    },
    {
      "cell_type": "code",
      "execution_count": 18,
      "metadata": {
        "id": "UTsPYq982Xrw"
      },
      "outputs": [],
      "source": [
        "def MAE_Gradient (X, t, w, lamda=0): # Output should have the same size as w\n",
        "    # YOUR CODE HERE\n",
        "    predicted = Prediction(X,w) #storing predicted vector from Prediction function\n",
        "    e = predicted - t #calculating error \n",
        "    X = np.c_[X, np.ones(X.shape[0])] #adding column of 1s in matrix X\n",
        "\n",
        "    return np.dot(e/abs(e),X)/X.shape[0] #returning the gradient of MAE through analytical solution\n",
        "\n",
        "    #raise NotImplementedError()"
      ]
    },
    {
      "cell_type": "code",
      "execution_count": 19,
      "metadata": {
        "id": "fTE_GAyr2Xrw"
      },
      "outputs": [],
      "source": [
        "'''\n",
        "TEST CASES, DO NOT CHANGE\n",
        "'''\n",
        "''' case 1 '''\n",
        "X=np.array([[3,6,5],[4.5,6.6,6]])\n",
        "t=np.array([4,5.5])\n",
        "w=np.array([2,-1,0.5,1])\n",
        "np.testing.assert_array_almost_equal(MAE_Gradient(X,t,w),np.array([0.75,  0.3 ,  0.5 , 0.]),decimal=3)\n"
      ]
    },
    {
      "cell_type": "code",
      "execution_count": 20,
      "metadata": {
        "id": "lMG3wlwh2Xrw"
      },
      "outputs": [],
      "source": [
        "def L2_Gradient (X, t, w, lamda): # Output should have the same size as w\n",
        "    # YOUR CODE HERE\n",
        "    mse_grad = MSE_Gradient(X,t,w) #storing mse gradient from MSE_Gradient function\n",
        "    l2_grad = (lamda/np.sqrt(sum(w[:-1]**2)))*w[:-1] #calculating gradient of penalized l2 norm vector by analytical solution\n",
        "    l2_grad_ = np.append(l2_grad,0) #adding a 0 element at the end of the vector to fill the vacant space of bias\n",
        "\n",
        "    return np.add(mse_grad,l2_grad_) #returing sum of mse gradient vector and penalized l2 norm gradient vector\n",
        "    #raise NotImplementedError()"
      ]
    },
    {
      "cell_type": "code",
      "execution_count": 21,
      "metadata": {
        "id": "OQ7MDsMx2Xrw"
      },
      "outputs": [],
      "source": [
        "'''\n",
        "TEST CASES, DO NOT CHANGE\n",
        "'''\n",
        "''' case 1 '''\n",
        "X=np.array([[3,6,5],[4.5,6.6,6]])\n",
        "t=np.array([4,5.5])\n",
        "w=np.array([2,-1,0.5,1])\n",
        "np.testing.assert_array_almost_equal(L2_Gradient(X,t,w,0.5),np.array([2.986, 2.721, 3.009 , 0.4 ]),decimal=3)\n"
      ]
    },
    {
      "cell_type": "code",
      "execution_count": 22,
      "metadata": {
        "id": "4p360Szk2Xrx"
      },
      "outputs": [],
      "source": [
        "def L1_Gradient (X, t, w, lamda): # Output should have the same size as w\n",
        "    # YOUR CODE HERE\n",
        "    mse_grad = MSE_Gradient(X,t,w) #storing mse gradient from MSE_Gradient function\n",
        "    l1_grad = lamda*(w[:-1]/abs(w[:-1])) #calculating gradient of penalized l1 norm through analytical solution\n",
        "    l1_grad_ = np.append(l1_grad,0) #adding a 0 element at the end of the vector to fill the vacant space of bias\n",
        "\n",
        "    return mse_grad + l1_grad_ #returning sum of mse gradient vector and penalized l2 norm gradient vector\n",
        "    #raise NotImplementedError()"
      ]
    },
    {
      "cell_type": "code",
      "execution_count": 23,
      "metadata": {
        "id": "zthElASE2Xrx"
      },
      "outputs": [],
      "source": [
        "'''\n",
        "TEST CASES, DO NOT CHANGE\n",
        "'''\n",
        "''' case 1 '''\n",
        "X=np.array([[3,6,5],[4.5,6.6,6]])\n",
        "t=np.array([4,5.5])\n",
        "w=np.array([2,-1,0.5,1])\n",
        "np.testing.assert_array_almost_equal(L1_Gradient(X,t,w,0.5),np.array([3.05, 2.44, 3.4 , 0.4 ]),decimal=3)\n"
      ]
    },
    {
      "cell_type": "markdown",
      "metadata": {
        "id": "vZSnsvOU2Xrx"
      },
      "source": [
        "## Gradient Descent Function\n"
      ]
    },
    {
      "cell_type": "code",
      "execution_count": 24,
      "metadata": {
        "id": "NMZnJD8x2Xrx"
      },
      "outputs": [],
      "source": [
        "def Gradient_Descent (X, X_val, t, t_val, w, lamda, max_iter, epsilon, lr, lossfunc, gradfunc): # See output format in 'return' statement\n",
        "    # YOUR CODE HERE\n",
        "    grad = gradfunc(X,t,w,lamda)#Calculating gradient of initial point\n",
        "    n2 = lossfunc(X,t,w,lamda) #Calculating loss (to check stopping criterion)\n",
        "    n1 = 0 #Intial loss 0 to calculate ddifference in loss\n",
        "    diff = abs(n1-n2) # difference in successive loss values for stopping criteria\n",
        "    k = 0 #counter variable\n",
        "    while k < max_iter and diff > epsilon: #we exit the loop either if count crosses max iter or change in loss is less than epsilon\n",
        "      w = w - np.multiply(lr,grad) #Updating weights\n",
        "      k+=1 #incrementing count \n",
        "      grad = gradfunc(X,t,w,lamda)  #gradient for next iteration\n",
        "      n1,n2 = n2, lossfunc(X,t,w,lamda) #storing last 2 iterations' loss values\n",
        "      \n",
        "      diff = abs(n1-n2) #Calculating difference in loss to check before next iteration\n",
        "\n",
        "    w_final = w #assigning final weights\n",
        "    train_loss_final = lossfunc(X,t,w_final, lamda) #storing value of train loss\n",
        "    validation_loss_final = lossfunc(X_val,t_val,w_final,lamda) #storing value of validation loss\n",
        "    validation_NRMSE = NRMSE_Metric(X_val,t_val,w_final) #Normalised validation RMSE\n",
        "\n",
        "    return w_final, train_loss_final, validation_loss_final, validation_NRMSE #You should return variables structured like this.\n",
        "    "
      ]
    },
    {
      "cell_type": "code",
      "execution_count": 25,
      "metadata": {
        "id": "4G2FplWj2Xry"
      },
      "outputs": [],
      "source": [
        "'''\n",
        "TEST CASES, DO NOT CHANGE\n",
        "'''\n",
        "X=np.array([[23,24],[1,2]])\n",
        "t=np.array([4,5])\n",
        "X_val=np.array([[3,4],[5,6]])\n",
        "t_val=np.array([3,4])\n",
        "w=np.array([3,2,1])\n",
        "results =Gradient_Descent (X, X_val, t, t_val, w, 0.1, 100, 1e-10, 1e-5, L2_Loss,L2_Gradient) \n",
        "np.testing.assert_allclose([results[1]],[697.919],rtol =0.05)\n",
        "np.testing.assert_allclose([results[2]],[20],atol=5) # we expect around 17.5  but some students got 24 which we will also accept\n",
        "#Instructor Values of results[1] and results [2] are 697.919 and 17.512 respectively"
      ]
    },
    {
      "cell_type": "markdown",
      "metadata": {
        "id": "_Qd_OR8J2Xry"
      },
      "source": [
        "## Pseudo Inverse Method\n",
        "\n",
        "You have to implement a slightly more advanced version, with L2 penalty:\n",
        "\n",
        "w = (X' X + lambda I)^(-1) X' t.\n",
        "\n",
        "See, for example: Section 2 of https://web.mit.edu/zoya/www/linearRegression.pdf\n",
        "\n",
        "Here, the column of 1's in assumed to be included in X"
      ]
    },
    {
      "cell_type": "code",
      "execution_count": null,
      "metadata": {
        "id": "2SZBdimL2Xry"
      },
      "outputs": [],
      "source": [
        "def Pseudo_Inverse (X, t, lamda): # Output should be weight vector\n",
        "    # YOUR CODE HERE\n",
        "    n = len(X) # Number of samples \n",
        "    ones = np.array([1 for i in range(n)]) # Creating vector of ones to attach to X\n",
        "    X = np.concatenate([X,ones.reshape(-1,1)],axis=1) #Creating augmented matrix [X 1]\n",
        "    # We cannot directly use the pseudo-inverse function of numpy, because of the lamda I term to be added\n",
        "    m1 = np.dot(X.T,X) + lamda*np.eye(len(X.T)) #Calculating (X'X + lamda I)\n",
        "    w = np.linalg.inv(m1)@X.T@t #Computing w \n",
        "    return w #returning w\n",
        "    #raise NotImplementedError()"
      ]
    },
    {
      "cell_type": "code",
      "execution_count": null,
      "metadata": {
        "id": "56auP9d42Xry"
      },
      "outputs": [],
      "source": [
        "'''\n",
        "TEST CASES, DO NOT CHANGE\n",
        "'''\n",
        "''' case 1 - other data'''\n",
        "X=np.array([[3,6,5],[4.5,6.6,6]])\n",
        "t=np.array([4,5.5])\n",
        "np.testing.assert_array_almost_equal(Pseudo_Inverse(X,t,0.5),np.array([ 0.491,  0.183,  0.319, -0.002]),decimal=3)"
      ]
    },
    {
      "cell_type": "markdown",
      "metadata": {
        "id": "UL8462_M2Xrz"
      },
      "source": [
        "#... Part 1 ends Below this you be more creative. Just comment out the lines where you save files (e.g. test predictions)."
      ]
    },
    {
      "cell_type": "markdown",
      "metadata": {
        "id": "vG5f7aAQ2Xrz"
      },
      "source": [
        "#**Part 2 begins ...**\n",
        "\n",
        "**Instructions to be loosely followed (except number 8):**\n",
        "\n",
        "1. Add more code and text cells between this and the last cell.\n",
        "2. Read training data from: https://www.ee.iitb.ac.in/~asethi/Dump/TempTrain.csv only. Do not use a local copy of the dataset.\n",
        "3. Find the best lamda for **MSE+lamda*L2(w)** loss function. Plot training and validation RMSE vs. 1/lamda (1/lamda represents model complexity). Print weights, validation RMSE, validation NRMSE for the best lamda.\n",
        "4. Find the best lamda for **MSE+lamda*L1(w)** loss function. Plot training and validation RMSE vs. 1/lamda (1/lamda represents model complexity). Print weights, validation RMSE, validation NRMSE for the best lamda.\n",
        "5. Find the best lamda for the **pseudo-inv method**. Plot training and validation RMSE vs. 1/lamda (1/lamda represents model complexity). Print weights, validation RMSE, validation NRMSE for the best lamda.\n",
        "6. Write your observations and conclusions.\n",
        "7. Read test data from: https://www.ee.iitb.ac.in/~asethi/Dump/TempTest.csv only. Do not use a local copy of the dataset. Predict its dependent (missing last column) using the model with the lowest MSE, RMSE, or NRMSE. Save it as a file RollNo1_RollNo2_1.csv.\n",
        "8. **Disable the prediction csv file saving statement and submit this entire .ipynb file, .py file, and .csv file as a single RollNo1_RollNo2_1.zip file.**\n"
      ]
    },
    {
      "cell_type": "code",
      "execution_count": 30,
      "metadata": {
        "id": "SW8UEgA27Gg2"
      },
      "outputs": [],
      "source": [
        "df1 = pd.read_csv('https://www.ee.iitb.ac.in/~asethi/Dump/TempTrain.csv') #importing csv file from the url and storing it as a dataframe using pandas\n",
        "X = df1.iloc[:,:-1] #specifying the feature columns and storing it as another dataframe\n",
        "Y = df1.Next_Tmax #specifying the target column and storing it as another dataframe\n",
        "mx,stdx = np.mean(X),np.std(X) #storing mean and standard deviation of X\n",
        "my,stdy = np.mean(Y),np.std(Y) #storing mean and standard deviation of Y\n",
        "X = Normalize(X) #normalizing X\n",
        "Y = Normalize(Y) #normalizing Y\n",
        "\n",
        "np.random.seed(4) #specfifying seed fpr replicability\n",
        "val_index = np.random.choice(X.shape[0],int(X.shape[0]*0.2),False) #Creating indices to randomly split into training and validation\n",
        "x_train = X.drop(val_index) #creating training X by dropping rows from X as per indices in val_index\n",
        "y_train = Y.drop(val_index) #creating training Y by dropping rows from Y as per indices in val_index\n",
        "x_val = X.iloc[val_index,:] #creating validation X by including all rows as per indices in val_index\n",
        "y_val = Y.iloc[val_index]   #creating validation Y by including all rows as per indices in val_index"
      ]
    },
    {
      "cell_type": "code",
      "execution_count": 33,
      "metadata": {
        "id": "4Xxbyran7Gj9"
      },
      "outputs": [],
      "source": [
        "n,features = X.shape #storing no of rows in X as n and no of columns in X as features"
      ]
    },
    {
      "cell_type": "code",
      "source": [
        "X.head() #getting the first 5 rows for the dataframe"
      ],
      "metadata": {
        "id": "dhbMwY5QmMG-",
        "colab": {
          "base_uri": "https://localhost:8080/",
          "height": 287
        },
        "outputId": "fffb53cd-d324-499b-a368-5f254631d7da"
      },
      "execution_count": 34,
      "outputs": [
        {
          "output_type": "execute_result",
          "data": {
            "text/html": [
              "\n",
              "  <div id=\"df-1e4f3609-f72f-4c09-b3ff-53526dd7c766\">\n",
              "    <div class=\"colab-df-container\">\n",
              "      <div>\n",
              "<style scoped>\n",
              "    .dataframe tbody tr th:only-of-type {\n",
              "        vertical-align: middle;\n",
              "    }\n",
              "\n",
              "    .dataframe tbody tr th {\n",
              "        vertical-align: top;\n",
              "    }\n",
              "\n",
              "    .dataframe thead th {\n",
              "        text-align: right;\n",
              "    }\n",
              "</style>\n",
              "<table border=\"1\" class=\"dataframe\">\n",
              "  <thead>\n",
              "    <tr style=\"text-align: right;\">\n",
              "      <th></th>\n",
              "      <th>Present_Tmax</th>\n",
              "      <th>Present_Tmin</th>\n",
              "      <th>LDAPS_RHmin</th>\n",
              "      <th>LDAPS_RHmax</th>\n",
              "      <th>LDAPS_Tmax_lapse</th>\n",
              "      <th>LDAPS_Tmin_lapse</th>\n",
              "      <th>LDAPS_WS</th>\n",
              "      <th>LDAPS_LH</th>\n",
              "      <th>LDAPS_CC1</th>\n",
              "      <th>LDAPS_CC2</th>\n",
              "      <th>LDAPS_CC3</th>\n",
              "      <th>LDAPS_CC4</th>\n",
              "      <th>LDAPS_PPT1</th>\n",
              "      <th>LDAPS_PPT2</th>\n",
              "      <th>LDAPS_PPT3</th>\n",
              "      <th>LDAPS_PPT4</th>\n",
              "      <th>lat</th>\n",
              "      <th>lon</th>\n",
              "      <th>DEM</th>\n",
              "      <th>Slope</th>\n",
              "      <th>Solar radiation</th>\n",
              "    </tr>\n",
              "  </thead>\n",
              "  <tbody>\n",
              "    <tr>\n",
              "      <th>0</th>\n",
              "      <td>-0.373298</td>\n",
              "      <td>-0.714209</td>\n",
              "      <td>0.154752</td>\n",
              "      <td>0.355596</td>\n",
              "      <td>-0.530924</td>\n",
              "      <td>-0.189114</td>\n",
              "      <td>-0.142492</td>\n",
              "      <td>0.211007</td>\n",
              "      <td>-0.518067</td>\n",
              "      <td>-0.576814</td>\n",
              "      <td>-0.578539</td>\n",
              "      <td>-0.622307</td>\n",
              "      <td>-0.308684</td>\n",
              "      <td>-0.277869</td>\n",
              "      <td>-0.240897</td>\n",
              "      <td>-0.222618</td>\n",
              "      <td>1.187077</td>\n",
              "      <td>-0.007944</td>\n",
              "      <td>2.774473</td>\n",
              "      <td>1.111158</td>\n",
              "      <td>1.506702</td>\n",
              "    </tr>\n",
              "    <tr>\n",
              "      <th>1</th>\n",
              "      <td>0.711072</td>\n",
              "      <td>-0.630934</td>\n",
              "      <td>-0.259771</td>\n",
              "      <td>0.285632</td>\n",
              "      <td>0.081299</td>\n",
              "      <td>0.255927</td>\n",
              "      <td>-0.642850</td>\n",
              "      <td>-0.317950</td>\n",
              "      <td>-0.549964</td>\n",
              "      <td>-0.392084</td>\n",
              "      <td>-0.587734</td>\n",
              "      <td>-0.635047</td>\n",
              "      <td>-0.308684</td>\n",
              "      <td>-0.277869</td>\n",
              "      <td>-0.240897</td>\n",
              "      <td>-0.222618</td>\n",
              "      <td>1.187077</td>\n",
              "      <td>0.509002</td>\n",
              "      <td>-0.315498</td>\n",
              "      <td>-0.543769</td>\n",
              "      <td>1.220113</td>\n",
              "    </tr>\n",
              "    <tr>\n",
              "      <th>2</th>\n",
              "      <td>0.609412</td>\n",
              "      <td>0.076909</td>\n",
              "      <td>-0.506931</td>\n",
              "      <td>-0.621147</td>\n",
              "      <td>0.164212</td>\n",
              "      <td>0.485628</td>\n",
              "      <td>-0.444689</td>\n",
              "      <td>-1.265198</td>\n",
              "      <td>-0.611060</td>\n",
              "      <td>-0.370098</td>\n",
              "      <td>-0.405497</td>\n",
              "      <td>-0.577743</td>\n",
              "      <td>-0.308684</td>\n",
              "      <td>-0.277869</td>\n",
              "      <td>-0.240897</td>\n",
              "      <td>-0.222618</td>\n",
              "      <td>0.651523</td>\n",
              "      <td>0.836821</td>\n",
              "      <td>-0.526734</td>\n",
              "      <td>-0.724500</td>\n",
              "      <td>1.206763</td>\n",
              "    </tr>\n",
              "    <tr>\n",
              "      <th>3</th>\n",
              "      <td>0.744959</td>\n",
              "      <td>0.118546</td>\n",
              "      <td>0.153652</td>\n",
              "      <td>1.089554</td>\n",
              "      <td>0.030966</td>\n",
              "      <td>-0.050919</td>\n",
              "      <td>-0.661426</td>\n",
              "      <td>0.098517</td>\n",
              "      <td>-0.584495</td>\n",
              "      <td>-0.491515</td>\n",
              "      <td>-0.580741</td>\n",
              "      <td>-0.609091</td>\n",
              "      <td>-0.308684</td>\n",
              "      <td>-0.277869</td>\n",
              "      <td>-0.240897</td>\n",
              "      <td>-0.222618</td>\n",
              "      <td>1.988424</td>\n",
              "      <td>0.382917</td>\n",
              "      <td>-0.297914</td>\n",
              "      <td>0.928824</td>\n",
              "      <td>1.191479</td>\n",
              "    </tr>\n",
              "    <tr>\n",
              "      <th>4</th>\n",
              "      <td>0.541639</td>\n",
              "      <td>-0.506020</td>\n",
              "      <td>0.010756</td>\n",
              "      <td>0.224152</td>\n",
              "      <td>-0.172591</td>\n",
              "      <td>0.018475</td>\n",
              "      <td>-0.623709</td>\n",
              "      <td>1.374175</td>\n",
              "      <td>-0.830039</td>\n",
              "      <td>-0.398937</td>\n",
              "      <td>-0.508352</td>\n",
              "      <td>-0.466718</td>\n",
              "      <td>-0.308684</td>\n",
              "      <td>-0.277869</td>\n",
              "      <td>-0.240897</td>\n",
              "      <td>-0.222618</td>\n",
              "      <td>0.117953</td>\n",
              "      <td>1.807670</td>\n",
              "      <td>-0.494812</td>\n",
              "      <td>-0.550036</td>\n",
              "      <td>1.197479</td>\n",
              "    </tr>\n",
              "  </tbody>\n",
              "</table>\n",
              "</div>\n",
              "      <button class=\"colab-df-convert\" onclick=\"convertToInteractive('df-1e4f3609-f72f-4c09-b3ff-53526dd7c766')\"\n",
              "              title=\"Convert this dataframe to an interactive table.\"\n",
              "              style=\"display:none;\">\n",
              "        \n",
              "  <svg xmlns=\"http://www.w3.org/2000/svg\" height=\"24px\"viewBox=\"0 0 24 24\"\n",
              "       width=\"24px\">\n",
              "    <path d=\"M0 0h24v24H0V0z\" fill=\"none\"/>\n",
              "    <path d=\"M18.56 5.44l.94 2.06.94-2.06 2.06-.94-2.06-.94-.94-2.06-.94 2.06-2.06.94zm-11 1L8.5 8.5l.94-2.06 2.06-.94-2.06-.94L8.5 2.5l-.94 2.06-2.06.94zm10 10l.94 2.06.94-2.06 2.06-.94-2.06-.94-.94-2.06-.94 2.06-2.06.94z\"/><path d=\"M17.41 7.96l-1.37-1.37c-.4-.4-.92-.59-1.43-.59-.52 0-1.04.2-1.43.59L10.3 9.45l-7.72 7.72c-.78.78-.78 2.05 0 2.83L4 21.41c.39.39.9.59 1.41.59.51 0 1.02-.2 1.41-.59l7.78-7.78 2.81-2.81c.8-.78.8-2.07 0-2.86zM5.41 20L4 18.59l7.72-7.72 1.47 1.35L5.41 20z\"/>\n",
              "  </svg>\n",
              "      </button>\n",
              "      \n",
              "  <style>\n",
              "    .colab-df-container {\n",
              "      display:flex;\n",
              "      flex-wrap:wrap;\n",
              "      gap: 12px;\n",
              "    }\n",
              "\n",
              "    .colab-df-convert {\n",
              "      background-color: #E8F0FE;\n",
              "      border: none;\n",
              "      border-radius: 50%;\n",
              "      cursor: pointer;\n",
              "      display: none;\n",
              "      fill: #1967D2;\n",
              "      height: 32px;\n",
              "      padding: 0 0 0 0;\n",
              "      width: 32px;\n",
              "    }\n",
              "\n",
              "    .colab-df-convert:hover {\n",
              "      background-color: #E2EBFA;\n",
              "      box-shadow: 0px 1px 2px rgba(60, 64, 67, 0.3), 0px 1px 3px 1px rgba(60, 64, 67, 0.15);\n",
              "      fill: #174EA6;\n",
              "    }\n",
              "\n",
              "    [theme=dark] .colab-df-convert {\n",
              "      background-color: #3B4455;\n",
              "      fill: #D2E3FC;\n",
              "    }\n",
              "\n",
              "    [theme=dark] .colab-df-convert:hover {\n",
              "      background-color: #434B5C;\n",
              "      box-shadow: 0px 1px 3px 1px rgba(0, 0, 0, 0.15);\n",
              "      filter: drop-shadow(0px 1px 2px rgba(0, 0, 0, 0.3));\n",
              "      fill: #FFFFFF;\n",
              "    }\n",
              "  </style>\n",
              "\n",
              "      <script>\n",
              "        const buttonEl =\n",
              "          document.querySelector('#df-1e4f3609-f72f-4c09-b3ff-53526dd7c766 button.colab-df-convert');\n",
              "        buttonEl.style.display =\n",
              "          google.colab.kernel.accessAllowed ? 'block' : 'none';\n",
              "\n",
              "        async function convertToInteractive(key) {\n",
              "          const element = document.querySelector('#df-1e4f3609-f72f-4c09-b3ff-53526dd7c766');\n",
              "          const dataTable =\n",
              "            await google.colab.kernel.invokeFunction('convertToInteractive',\n",
              "                                                     [key], {});\n",
              "          if (!dataTable) return;\n",
              "\n",
              "          const docLinkHtml = 'Like what you see? Visit the ' +\n",
              "            '<a target=\"_blank\" href=https://colab.research.google.com/notebooks/data_table.ipynb>data table notebook</a>'\n",
              "            + ' to learn more about interactive tables.';\n",
              "          element.innerHTML = '';\n",
              "          dataTable['output_type'] = 'display_data';\n",
              "          await google.colab.output.renderOutput(dataTable, element);\n",
              "          const docLink = document.createElement('div');\n",
              "          docLink.innerHTML = docLinkHtml;\n",
              "          element.appendChild(docLink);\n",
              "        }\n",
              "      </script>\n",
              "    </div>\n",
              "  </div>\n",
              "  "
            ],
            "text/plain": [
              "   Present_Tmax  Present_Tmin  LDAPS_RHmin  ...       DEM     Slope  Solar radiation\n",
              "0     -0.373298     -0.714209     0.154752  ...  2.774473  1.111158         1.506702\n",
              "1      0.711072     -0.630934    -0.259771  ... -0.315498 -0.543769         1.220113\n",
              "2      0.609412      0.076909    -0.506931  ... -0.526734 -0.724500         1.206763\n",
              "3      0.744959      0.118546     0.153652  ... -0.297914  0.928824         1.191479\n",
              "4      0.541639     -0.506020     0.010756  ... -0.494812 -0.550036         1.197479\n",
              "\n",
              "[5 rows x 21 columns]"
            ]
          },
          "metadata": {},
          "execution_count": 34
        }
      ]
    },
    {
      "cell_type": "code",
      "execution_count": 37,
      "metadata": {
        "id": "0hN0c7MC7GnU"
      },
      "outputs": [],
      "source": [
        "lambd = [10,3,1,0.3,0.1,0.03,0.01] #creating a list of several values for lambda\n",
        "weights = np.array([0.5]*(features+1)) #initialising all weights to be 0.5 "
      ]
    },
    {
      "cell_type": "markdown",
      "metadata": {
        "id": "o0lVxzQTh5HP"
      },
      "source": [
        "## Note: \n",
        "Since we are taking lambda as a geometric progression (approx), we will plot (1/λ on a logarithmic scale on the x-axis)\\\n",
        "Log(1/λ) = -log (λ), hence we will plot error v/s -log(λ)"
      ]
    },
    {
      "cell_type": "markdown",
      "metadata": {
        "id": "7mTi5Zcc7_jh"
      },
      "source": [
        "## L2 regularization)"
      ]
    },
    {
      "cell_type": "code",
      "execution_count": null,
      "metadata": {
        "id": "pE8VRj7M7Gqe"
      },
      "outputs": [],
      "source": [
        "ws = [] # initialising list to store weights\n",
        "for i in lambd:\n",
        "  w,train_err,val_err,val_nrmse = Gradient_Descent(x_train,x_val,y_train,y_val,weights,i,10000,1e-10,5e-3,L2_Loss,L2_Gradient) # runnning gradient descent function\n",
        "  ws.append(w) #adding the weight vectors to ws\n",
        "\n"
      ]
    },
    {
      "cell_type": "code",
      "execution_count": null,
      "metadata": {
        "id": "tQ3vawmveobO"
      },
      "outputs": [],
      "source": [
        "tr1_rmse = [np.sqrt(MSE_Loss(x_train,y_train,ws[i])) for i in range(7)] #Storing train data RMSE \n",
        "val1_rmse = [np.sqrt(MSE_Loss(x_val,y_val,ws[i])) for i in range(7)]  #Storing validation data RMSE"
      ]
    },
    {
      "cell_type": "code",
      "execution_count": null,
      "metadata": {
        "colab": {
          "base_uri": "https://localhost:8080/",
          "height": 551
        },
        "id": "LqlrPpk-7GuC",
        "outputId": "a847dcfe-80d6-4b1a-dcac-d7636e269e70"
      },
      "outputs": [
        {
          "output_type": "display_data",
          "data": {
            "image/png": "[encoded data removed]",
            "text/plain": [
              "<Figure size 1080x648 with 1 Axes>"
            ]
          },
          "metadata": {
            "needs_background": "light"
          }
        }
      ],
      "source": [
        "plt.figure(figsize = (15,9))\n",
        "plt.plot([-np.log10(i) for i in lambd],tr1_rmse,label='Train RMSE') # Plot of train RMSE vs -log(1/lambda)\n",
        "plt.plot([-np.log10(i) for i in lambd],val1_rmse,label = 'Validation RMSE') # Plot of  validation RMSE vs -log(1/lambda)\n",
        "plt.legend()\n",
        "plt.xlabel('-Log(lambda)')\n",
        "plt.ylabel('Error(RMSE)')\n",
        "plt.show()"
      ]
    },
    {
      "cell_type": "markdown",
      "metadata": {
        "id": "QwjIwLx3-jg5"
      },
      "source": [
        "We see a relatively steep drop in rate of change of both training and validation error at log($\\frac{1}{λ}$) = 1 (λ = 0.1). After this value, increase in complexity doesn't give much decrease in error. Hence we can consider 0.1 as best λ value.\n",
        "\n",
        "However, the trend seems to be that error is decreasing with decrease in λ. We will investigate when lambda tends to 0 (no regularisation) below."
      ]
    },
    {
      "cell_type": "code",
      "execution_count": null,
      "metadata": {
        "colab": {
          "base_uri": "https://localhost:8080/"
        },
        "id": "djqDZyRN-C7I",
        "outputId": "f68b0450-f96a-4041-fcd4-f967ab671851"
      },
      "outputs": [
        {
          "output_type": "stream",
          "name": "stdout",
          "text": [
            "Optimal weights are [ 0.15147225  0.0657875   0.01259026 -0.02789402  0.40970632  0.16353676\n",
            " -0.12999231  0.08130783 -0.09632728 -0.07586443 -0.06703773 -0.06173716\n",
            " -0.01157219  0.05153122 -0.00325628 -0.00818385 -0.00633774 -0.02800727\n",
            " -0.05168436  0.06997345  0.03067963  0.00131424]\n",
            "Validation RMSE is 0.46170745898219107\n",
            "Validation NRMSE is 0.4683502471725136\n"
          ]
        }
      ],
      "source": [
        "print('Optimal weights are', ws[4]) #Weight vector corresponding to lambda = 0.1\n",
        "print('Validation RMSE is', np.sqrt(MSE_Loss(x_val,y_val,ws[4])) ) #Validation RMSE\n",
        "print('Validation NRMSE is',NRMSE_Metric(x_val,y_val,ws[4]) ) #Validation NRMSE"
      ]
    },
    {
      "cell_type": "markdown",
      "metadata": {
        "id": "EwzfApcK-8PL"
      },
      "source": [
        "Since target is normalised, standard deviation of validation set is close to 1, hence RMSE and NRMSE are close to one another "
      ]
    },
    {
      "cell_type": "markdown",
      "metadata": {
        "id": "IL-ovd_Q_nmQ"
      },
      "source": [
        "## L1 Loss)"
      ]
    },
    {
      "cell_type": "code",
      "execution_count": null,
      "metadata": {
        "id": "290agJal-DAK"
      },
      "outputs": [],
      "source": [
        "weights_l1 = [] #creating an empty list to store weights for different lambda values in case of L1 Loss\n",
        "\n",
        "for i in lambd: #runnin a loop over each value of lambda\n",
        "  w, train_err, val_err, val_nrmse = Gradient_Descent(x_train, x_val, y_train, y_val, weights, i, 10000, 1e-10, 1e-2, L1_Loss, L1_Gradient) #running gradient descent for given dataset with max iterations 10000, epsilon=1e-10, learning rate=1e-3 and loss function L1 and storing the values returned\n",
        "  weights_l1.append(w) #appending the list of weights for each value of lambda in weights_l1"
      ]
    },
    {
      "cell_type": "code",
      "execution_count": null,
      "metadata": {
        "id": "CWw7qehR-DDs"
      },
      "outputs": [],
      "source": [
        "train_l1_rmse = [np.sqrt(MSE_Loss(x_train, y_train, weights_l1[i])) for i in range(7)] #calculating and storing rmse for training set for all values of lambda\n",
        "val_l1_rmse = [np.sqrt(MSE_Loss(x_val, y_val, weights_l1[i])) for i in range(7)] #calculating and storing rmse for validation set for all values of lambda"
      ]
    },
    {
      "cell_type": "code",
      "execution_count": null,
      "metadata": {
        "colab": {
          "base_uri": "https://localhost:8080/",
          "height": 551
        },
        "id": "EsTzqFR__y85",
        "outputId": "37cbd6b0-5793-4ba9-86dd-a2f8a4ecde03"
      },
      "outputs": [
        {
          "output_type": "display_data",
          "data": {
            "image/png": "[encoded data removed]",
            "text/plain": [
              "<Figure size 1152x648 with 1 Axes>"
            ]
          },
          "metadata": {
            "needs_background": "light"
          }
        }
      ],
      "source": [
        "plt.figure(figsize = (16,9)) #setting figure size for plot\n",
        "plt.plot([-np.log10(i) for i in lambd], train_l1_rmse, label='Train RMSE') #plotting training rmse against log(1/lambda)\n",
        "plt.plot([-np.log10(i) for i in lambd], val_l1_rmse, label = 'Validation RMSE') #plotting validation rmse against log(1/lambda)\n",
        "plt.legend() #showing labels on plot\n",
        "plt.xlabel('-Log(lambda)') #labelling x axis\n",
        "plt.ylabel('Error(RMSE)') #labelling y axis\n",
        "plt.show() #showing plot"
      ]
    },
    {
      "cell_type": "markdown",
      "metadata": {
        "id": "O5r5GG2LwKBw"
      },
      "source": [
        "\n",
        "We see a relatively steep drop in rate of change of both training and validation error at log( 1/λ ) = 1.5 (λ = 0.03). After this value, increase in complexity doesn't give much decrease in error. Hence we can consider 0.03 as best λ value.\n",
        "\n",
        "However, the trend seems to be that error is decreasing with decrease in λ. We will investigate when lambda tends to 0 (no regularisation) below"
      ]
    },
    {
      "cell_type": "code",
      "execution_count": null,
      "metadata": {
        "colab": {
          "base_uri": "https://localhost:8080/"
        },
        "id": "AvlXvQDFAXms",
        "outputId": "04e75d76-b804-452d-a0c8-77a1745de54f"
      },
      "outputs": [
        {
          "output_type": "stream",
          "name": "stdout",
          "text": [
            "Optimal weights are [ 1.64306411e-01  4.07952923e-02  6.23604763e-03 -3.40472842e-05\n",
            "  5.30254839e-01  1.06644116e-01 -1.14113057e-01  6.94819697e-02\n",
            " -8.22158597e-02 -3.24518693e-02 -3.19355668e-02 -5.93106234e-02\n",
            " -4.38562014e-05  2.54351729e-02 -4.17985473e-05 -3.70206889e-06\n",
            " -3.81581427e-05 -3.12355987e-02 -4.80257643e-03  2.64510263e-02\n",
            "  3.98664043e-03  2.14853739e-03] \n",
            "\n",
            "Validation RMSE is 0.46527327032991433 \n",
            "\n",
            "Validation NRMSE is 0.4719673614157148\n"
          ]
        }
      ],
      "source": [
        "print('Optimal weights are', weights_l1[5],'\\n') #printing weights for best lambda value\n",
        "print('Validation RMSE is', val_l1_rmse[5],'\\n') #printing validation rmse for best lambda value\n",
        "print('Validation NRMSE is',NRMSE_Metric(x_val, y_val, weights_l1[5])) #printing normalized validation rmse for best lambda value"
      ]
    },
    {
      "cell_type": "markdown",
      "metadata": {
        "id": "iy3Fypbi_B-c"
      },
      "source": [
        "## Pseudo-inverse)"
      ]
    },
    {
      "cell_type": "code",
      "execution_count": null,
      "metadata": {
        "id": "Ky6JSY8T7Gxn"
      },
      "outputs": [],
      "source": [
        "wpsinv = [] #list to store weight vectors\n",
        "for j in lambd: # iterating through chosen values of lambda\n",
        "  w = Pseudo_Inverse(x_train,y_train,j*n) #Since lambda in our function is scaled down by n, we need to scale it back\n",
        "  wpsinv.append(w)"
      ]
    },
    {
      "cell_type": "code",
      "execution_count": null,
      "metadata": {
        "colab": {
          "base_uri": "https://localhost:8080/",
          "height": 551
        },
        "id": "Kp5HID8P_SMm",
        "outputId": "f881e089-4257-4321-cd22-c75178a8a640"
      },
      "outputs": [
        {
          "output_type": "display_data",
          "data": {
            "image/png": "[encoded data removed]",
            "text/plain": [
              "<Figure size 1080x648 with 1 Axes>"
            ]
          },
          "metadata": {
            "needs_background": "light"
          }
        }
      ],
      "source": [
        "tr_rmse = [np.sqrt(MSE_Loss(x_train,y_train,wpsinv[i])) for i in range(7)]#calculating and storing rmse for training set for all values of lambda\n",
        "\n",
        "val_rmse = [np.sqrt(MSE_Loss(x_val,y_val,wpsinv[i])) for i in range(7)]  #calculating and storing rmse for validation set for all values of lambda\n",
        "\n",
        "\n",
        "plt.figure(figsize = (15,9))\n",
        "plt.plot([-np.log10(i) for i in lambd],tr_rmse,label='Train RMSE') #Plotting train rmse vs -log(1/lambda)\n",
        "plt.plot([-np.log10(i) for i in lambd],val_rmse,label = 'Validation RMSE') #Plotting validation rmse vs -log(1/lambda)\n",
        "plt.legend()\n",
        "#plt.ylim([0,1])\n",
        "plt.xlabel('-Log(lambda)')\n",
        "plt.ylabel('Error(RMSE)')\n",
        "plt.show()\n"
      ]
    },
    {
      "cell_type": "markdown",
      "metadata": {
        "id": "mN28dXJXxL6J"
      },
      "source": [
        "We see a drop in rate of change of both training and validation error at log( 1/λ ) = 1 (λ = 0.1). After this value, increase in complexity doesn't give much decrease in error. Hence we can consider 0.1 as best λ value.\n",
        "\n",
        "However, the trend seems to be that error is decreasing with decrease in λ. We will investigate when lambda tends to 0 (no regularisation) below"
      ]
    },
    {
      "cell_type": "code",
      "execution_count": null,
      "metadata": {
        "colab": {
          "base_uri": "https://localhost:8080/"
        },
        "id": "al-WO3fv_SPm",
        "outputId": "8bd98375-8576-48a1-a7e6-c00f3d2cb932"
      },
      "outputs": [
        {
          "output_type": "stream",
          "name": "stdout",
          "text": [
            "Optimal weights are [ 0.15130524  0.07120465 -0.00132728 -0.02678165  0.38335511  0.17085636\n",
            " -0.12821567  0.079018   -0.09610309 -0.07730116 -0.06971538 -0.06106417\n",
            " -0.0108048   0.04908917 -0.00273691 -0.00862557 -0.00543235 -0.02536851\n",
            " -0.04684672  0.06364798  0.03152548  0.00102218] \n",
            "\n",
            "Validation RMSE is 0.4643298262409339 \n",
            "\n",
            "Validation NRMSE is 0.47101034358186505\n"
          ]
        }
      ],
      "source": [
        "print('Optimal weights are', wpsinv[4],'\\n') #weights corresponding to lambda  0.1\n",
        "print('Validation RMSE is', val_rmse[4],'\\n') \n",
        "print('Validation NRMSE is',NRMSE_Metric(x_val, y_val, wpsinv[4]))"
      ]
    },
    {
      "cell_type": "markdown",
      "metadata": {
        "id": "tBwj1vX4WtYh"
      },
      "source": [
        "## Gradient descent without regularisation\n",
        "\n",
        "We will also check for $\\lambda = 0$"
      ]
    },
    {
      "cell_type": "code",
      "execution_count": 40,
      "metadata": {
        "id": "2Gx7tYYXvS3C"
      },
      "outputs": [],
      "source": [
        "wnr, train_err, val_err_gd, val_nrmse_gd = Gradient_Descent(x_train, x_val, y_train, y_val, weights, 0, 10000, 1e-10, 5e-3, MSE_Loss, MSE_Gradient) #doing gradient descent ith lambd = 0 i.e. without regularisation"
      ]
    },
    {
      "cell_type": "code",
      "execution_count": 41,
      "metadata": {
        "colab": {
          "base_uri": "https://localhost:8080/"
        },
        "id": "kB9LBXpFXAGd",
        "outputId": "370d94ee-9b73-41a0-b02d-9c7ca955cf93"
      },
      "outputs": [
        {
          "output_type": "stream",
          "name": "stdout",
          "text": [
            "Weights are [ 0.15852088  0.04445756  0.13448    -0.04443859  0.59763031  0.06231221\n",
            " -0.13292205  0.08456853 -0.08860529 -0.06466526 -0.05043857 -0.07201824\n",
            " -0.01773328  0.05444255 -0.01170899 -0.00649785 -0.01399681 -0.04178032\n",
            " -0.07314503  0.09443113  0.01737296  0.00208611] \n",
            "\n",
            "Validation RMSE is 0.4537162018538185 \n",
            "\n",
            "Validation NRMSE is 0.4602440163146821\n"
          ]
        }
      ],
      "source": [
        "print('Weights are', wnr,'\\n') #printing weights for best lambda value\n",
        "print('Validation RMSE is', np.sqrt(val_err_gd),'\\n') #printing validation rmse for best lambda value\n",
        "print('Validation NRMSE is',val_nrmse_gd) #printing normalized validation rmse for best lambda value"
      ]
    },
    {
      "cell_type": "markdown",
      "source": [
        "We can observe that the validation error is smaller for $\\lambda = 0$ i.e. gradient descent without regularisation.\n",
        "\n",
        "So, we can conclude that the best $\\lambda$ for the given problem is $0$."
      ],
      "metadata": {
        "id": "K5vt2WdD-BfT"
      }
    },
    {
      "cell_type": "markdown",
      "metadata": {
        "id": "owB_E-sCGlHk"
      },
      "source": [
        "#Testing"
      ]
    },
    {
      "cell_type": "code",
      "execution_count": 26,
      "metadata": {
        "id": "FCfsAG1u_STN"
      },
      "outputs": [],
      "source": [
        "test_df = pd.read_csv('https://www.ee.iitb.ac.in/~asethi/Dump/TempTest.csv') #importing test file from given url using pandas"
      ]
    },
    {
      "cell_type": "code",
      "execution_count": 46,
      "metadata": {
        "id": "-CzsTYM-F408"
      },
      "outputs": [],
      "source": [
        "test_df = Normalize(test_df) #normalising test dataframe\n",
        "pred_arr = Prediction(test_df, wnr) #predicting the target column for test data using prediction function and optimal weights\n",
        "pred_arr = pred_arr*stdy + my #de-normalising predicted array\n",
        "pred_df = pd.DataFrame(pred_arr,columns=['Next_Tmax']) #creating a dataframe of the predicted vector array\n",
        "#pred_df.to_csv('21i190008_21i190012_1.csv',index=False) #converting dataframe to csv and saving it"
      ]
    },
    {
      "cell_type": "code",
      "execution_count": 47,
      "metadata": {
        "colab": {
          "base_uri": "https://localhost:8080/",
          "height": 300
        },
        "id": "2tKwUE2gRvbF",
        "outputId": "2bf2e0f2-9d22-4a64-94f0-45dec4237d8b"
      },
      "outputs": [
        {
          "output_type": "execute_result",
          "data": {
            "text/html": [
              "\n",
              "  <div id=\"df-234e5c8e-17e9-4ba4-9c67-c211112981ea\">\n",
              "    <div class=\"colab-df-container\">\n",
              "      <div>\n",
              "<style scoped>\n",
              "    .dataframe tbody tr th:only-of-type {\n",
              "        vertical-align: middle;\n",
              "    }\n",
              "\n",
              "    .dataframe tbody tr th {\n",
              "        vertical-align: top;\n",
              "    }\n",
              "\n",
              "    .dataframe thead th {\n",
              "        text-align: right;\n",
              "    }\n",
              "</style>\n",
              "<table border=\"1\" class=\"dataframe\">\n",
              "  <thead>\n",
              "    <tr style=\"text-align: right;\">\n",
              "      <th></th>\n",
              "      <th>Next_Tmax</th>\n",
              "    </tr>\n",
              "  </thead>\n",
              "  <tbody>\n",
              "    <tr>\n",
              "      <th>count</th>\n",
              "      <td>1506.000000</td>\n",
              "    </tr>\n",
              "    <tr>\n",
              "      <th>mean</th>\n",
              "      <td>30.309518</td>\n",
              "    </tr>\n",
              "    <tr>\n",
              "      <th>std</th>\n",
              "      <td>2.974732</td>\n",
              "    </tr>\n",
              "    <tr>\n",
              "      <th>min</th>\n",
              "      <td>21.047569</td>\n",
              "    </tr>\n",
              "    <tr>\n",
              "      <th>25%</th>\n",
              "      <td>28.128438</td>\n",
              "    </tr>\n",
              "    <tr>\n",
              "      <th>50%</th>\n",
              "      <td>30.834144</td>\n",
              "    </tr>\n",
              "    <tr>\n",
              "      <th>75%</th>\n",
              "      <td>32.455126</td>\n",
              "    </tr>\n",
              "    <tr>\n",
              "      <th>max</th>\n",
              "      <td>37.316337</td>\n",
              "    </tr>\n",
              "  </tbody>\n",
              "</table>\n",
              "</div>\n",
              "      <button class=\"colab-df-convert\" onclick=\"convertToInteractive('df-234e5c8e-17e9-4ba4-9c67-c211112981ea')\"\n",
              "              title=\"Convert this dataframe to an interactive table.\"\n",
              "              style=\"display:none;\">\n",
              "        \n",
              "  <svg xmlns=\"http://www.w3.org/2000/svg\" height=\"24px\"viewBox=\"0 0 24 24\"\n",
              "       width=\"24px\">\n",
              "    <path d=\"M0 0h24v24H0V0z\" fill=\"none\"/>\n",
              "    <path d=\"M18.56 5.44l.94 2.06.94-2.06 2.06-.94-2.06-.94-.94-2.06-.94 2.06-2.06.94zm-11 1L8.5 8.5l.94-2.06 2.06-.94-2.06-.94L8.5 2.5l-.94 2.06-2.06.94zm10 10l.94 2.06.94-2.06 2.06-.94-2.06-.94-.94-2.06-.94 2.06-2.06.94z\"/><path d=\"M17.41 7.96l-1.37-1.37c-.4-.4-.92-.59-1.43-.59-.52 0-1.04.2-1.43.59L10.3 9.45l-7.72 7.72c-.78.78-.78 2.05 0 2.83L4 21.41c.39.39.9.59 1.41.59.51 0 1.02-.2 1.41-.59l7.78-7.78 2.81-2.81c.8-.78.8-2.07 0-2.86zM5.41 20L4 18.59l7.72-7.72 1.47 1.35L5.41 20z\"/>\n",
              "  </svg>\n",
              "      </button>\n",
              "      \n",
              "  <style>\n",
              "    .colab-df-container {\n",
              "      display:flex;\n",
              "      flex-wrap:wrap;\n",
              "      gap: 12px;\n",
              "    }\n",
              "\n",
              "    .colab-df-convert {\n",
              "      background-color: #E8F0FE;\n",
              "      border: none;\n",
              "      border-radius: 50%;\n",
              "      cursor: pointer;\n",
              "      display: none;\n",
              "      fill: #1967D2;\n",
              "      height: 32px;\n",
              "      padding: 0 0 0 0;\n",
              "      width: 32px;\n",
              "    }\n",
              "\n",
              "    .colab-df-convert:hover {\n",
              "      background-color: #E2EBFA;\n",
              "      box-shadow: 0px 1px 2px rgba(60, 64, 67, 0.3), 0px 1px 3px 1px rgba(60, 64, 67, 0.15);\n",
              "      fill: #174EA6;\n",
              "    }\n",
              "\n",
              "    [theme=dark] .colab-df-convert {\n",
              "      background-color: #3B4455;\n",
              "      fill: #D2E3FC;\n",
              "    }\n",
              "\n",
              "    [theme=dark] .colab-df-convert:hover {\n",
              "      background-color: #434B5C;\n",
              "      box-shadow: 0px 1px 3px 1px rgba(0, 0, 0, 0.15);\n",
              "      filter: drop-shadow(0px 1px 2px rgba(0, 0, 0, 0.3));\n",
              "      fill: #FFFFFF;\n",
              "    }\n",
              "  </style>\n",
              "\n",
              "      <script>\n",
              "        const buttonEl =\n",
              "          document.querySelector('#df-234e5c8e-17e9-4ba4-9c67-c211112981ea button.colab-df-convert');\n",
              "        buttonEl.style.display =\n",
              "          google.colab.kernel.accessAllowed ? 'block' : 'none';\n",
              "\n",
              "        async function convertToInteractive(key) {\n",
              "          const element = document.querySelector('#df-234e5c8e-17e9-4ba4-9c67-c211112981ea');\n",
              "          const dataTable =\n",
              "            await google.colab.kernel.invokeFunction('convertToInteractive',\n",
              "                                                     [key], {});\n",
              "          if (!dataTable) return;\n",
              "\n",
              "          const docLinkHtml = 'Like what you see? Visit the ' +\n",
              "            '<a target=\"_blank\" href=https://colab.research.google.com/notebooks/data_table.ipynb>data table notebook</a>'\n",
              "            + ' to learn more about interactive tables.';\n",
              "          element.innerHTML = '';\n",
              "          dataTable['output_type'] = 'display_data';\n",
              "          await google.colab.output.renderOutput(dataTable, element);\n",
              "          const docLink = document.createElement('div');\n",
              "          docLink.innerHTML = docLinkHtml;\n",
              "          element.appendChild(docLink);\n",
              "        }\n",
              "      </script>\n",
              "    </div>\n",
              "  </div>\n",
              "  "
            ],
            "text/plain": [
              "         Next_Tmax\n",
              "count  1506.000000\n",
              "mean     30.309518\n",
              "std       2.974732\n",
              "min      21.047569\n",
              "25%      28.128438\n",
              "50%      30.834144\n",
              "75%      32.455126\n",
              "max      37.316337"
            ]
          },
          "metadata": {},
          "execution_count": 47
        }
      ],
      "source": [
        "pred_df.describe() #descriptive statistics for predicted column"
      ]
    },
    {
      "cell_type": "code",
      "execution_count": null,
      "metadata": {
        "colab": {
          "base_uri": "https://localhost:8080/"
        },
        "id": "Cth44-VcSBBr",
        "outputId": "87bf3072-6113-4405-90ec-04646203ecc0"
      },
      "outputs": [
        {
          "output_type": "execute_result",
          "data": {
            "text/plain": [
              "count    6082.000000\n",
              "mean       30.303058\n",
              "std         3.097031\n",
              "min        17.400000\n",
              "25%        28.400000\n",
              "50%        30.500000\n",
              "75%        32.600000\n",
              "max        38.900000\n",
              "Name: Next_Tmax, dtype: float64"
            ]
          },
          "metadata": {},
          "execution_count": 42
        }
      ],
      "source": [
        "df1.Next_Tmax.describe() #descriptive statistics for training column"
      ]
    },
    {
      "cell_type": "markdown",
      "source": [
        "## Predicted vs actual values"
      ],
      "metadata": {
        "id": "oHc3E8q2h1a6"
      }
    },
    {
      "cell_type": "code",
      "source": [
        "preds = Prediction(x_val,wnr)*stdy+my #storing de-normalised array in preds\n",
        "y_or = y_val*stdy+my #de-normalised y validation dataset\n",
        "I = np.linspace(16,40,200) #storing 200 points in the range of minimum Next_T_Max and maximum Next_t_Max\n",
        "plt.figure(figsize = (20,16)) #setting figure size\n",
        "plt.scatter(y_or,preds,color='red') #scatter plot of predicted vs actual values\n",
        "plt.plot(I,I,color='black') #Identity function, to visualise difference\n",
        "\n",
        "plt.xlabel('Actual value') #labelling x axis\n",
        "plt.ylabel('Predicted values') #labelling y axis\n",
        "plt.show() "
      ],
      "metadata": {
        "colab": {
          "base_uri": "https://localhost:8080/",
          "height": 932
        },
        "id": "944zclDOfV_H",
        "outputId": "adf0efdf-fe21-4e4f-9f26-b6eb63bc04a6"
      },
      "execution_count": null,
      "outputs": [
        {
          "output_type": "display_data",
          "data": {
            "image/png": "[encoded data removed]",
            "text/plain": [
              "<Figure size 1440x1152 with 1 Axes>"
            ]
          },
          "metadata": {
            "needs_background": "light"
          }
        }
      ]
    },
    {
      "cell_type": "markdown",
      "source": [
        "### R^2"
      ],
      "metadata": {
        "id": "K3AlIRaQh6RN"
      }
    },
    {
      "cell_type": "code",
      "source": [
        "corr_matrix = np.corrcoef(preds,y_or) #calculating the correlation coefficient matrix\n",
        "corr_coeff = corr_matrix[0][1] #storing the correlation between the two array\n",
        "\n",
        "print('The R^2 value for the predicted vs actual data is', corr_coeff**2) #calculating R^2 by taking the square of corr_coeff"
      ],
      "metadata": {
        "colab": {
          "base_uri": "https://localhost:8080/"
        },
        "id": "yaBCu92Pheoe",
        "outputId": "df4004b0-2b98-4d91-84df-0b9320782a5e"
      },
      "execution_count": null,
      "outputs": [
        {
          "output_type": "stream",
          "name": "stdout",
          "text": [
            "The R^2 value for the predicted vs actual data is 0.788315744202502\n"
          ]
        }
      ]
    },
    {
      "cell_type": "markdown",
      "metadata": {
        "id": "aQ1ij4zS2Xrz"
      },
      "source": [
        "#**... Part 2 ends.**\n",
        "\n",
        "1. Write the name or roll no.s of friends from outside your group with whom you discussed the assignment here (no penalty for mere discussion without copying code): Siddarth Jain \n",
        "2. Write the links of sources on the internet referred here (no penalty for mere consultation without copying code): \n",
        "https://en.wikipedia.org/wiki/Root-mean-square_deviation\n"
      ]
    },
    {
      "cell_type": "markdown",
      "metadata": {
        "id": "vyzUZbnAUAD0"
      },
      "source": [
        "Sources :\n",
        "\n",
        "For help regarding some numpy functions : https://numpy.org/doc/stable/reference/\n",
        "\n",
        "For clearing doubts regarding the gradient descent function : https://towardsdatascience.com/gradient-descent-algorithm-a-deep-dive-cf04e8115f21\n",
        "\n",
        "To check R^2 : https://condor.depaul.edu/sjost/it223/documents/correlation.htm\n"
      ]
    },
    {
      "cell_type": "code",
      "source": [
        ""
      ],
      "metadata": {
        "id": "0nrIpe0EhW4u"
      },
      "execution_count": null,
      "outputs": []
    }
  ],
  "metadata": {
    "colab": {
      "collapsed_sections": [],
      "name": "21i190008_21i190012_1.ipynb",
      "provenance": []
    },
    "kernelspec": {
      "display_name": "Python 3",
      "language": "python",
      "name": "python3"
    },
    "language_info": {
      "codemirror_mode": {
        "name": "ipython",
        "version": 3
      },
      "file_extension": ".py",
      "mimetype": "text/x-python",
      "name": "python",
      "nbconvert_exporter": "python",
      "pygments_lexer": "ipython3",
      "version": "3.8.3"
    }
  },
  "nbformat": 4,
  "nbformat_minor": 0
}