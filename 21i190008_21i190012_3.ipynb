{
  "nbformat": 4,
  "nbformat_minor": 0,
  "metadata": {
    "colab": {
      "name": "21i190008_21i190012_3.ipynb",
      "provenance": [],
      "collapsed_sections": []
    },
    "kernelspec": {
      "name": "python3",
      "display_name": "Python 3"
    },
    "language_info": {
      "name": "python"
    }
  },
  "cells": [
    {
      "cell_type": "markdown",
      "source": [
        "Students: Yannick Furtado, Shoaib Ahmed"
      ],
      "metadata": {
        "id": "F6LjFUkXXf7M"
      }
    },
    {
      "cell_type": "code",
      "execution_count": null,
      "metadata": {
        "id": "6TZNvtoFWSAB"
      },
      "outputs": [],
      "source": [
        "#importing libraries\n",
        "\n",
        "import pandas as pd\n",
        "import seaborn as sns \n",
        "from sklearn.decomposition import PCA\n",
        "from sklearn.metrics import mean_squared_error\n",
        "import numpy as np\n",
        "import matplotlib.pyplot as plt"
      ]
    },
    {
      "cell_type": "code",
      "source": [
        "df = pd.read_csv('/content/DataPCA.csv') #reading the csv file"
      ],
      "metadata": {
        "id": "typFgypSWhjK"
      },
      "execution_count": null,
      "outputs": []
    },
    {
      "cell_type": "code",
      "source": [
        "df.head() #looking at first few values"
      ],
      "metadata": {
        "id": "K_ZMV6pgWkje",
        "colab": {
          "base_uri": "https://localhost:8080/",
          "height": 206
        },
        "outputId": "3def8e92-4d99-4d40-b207-f8742c933fa6"
      },
      "execution_count": null,
      "outputs": [
        {
          "output_type": "execute_result",
          "data": {
            "text/plain": [
              "         x1        x2        x3        x4        x5        x6        x7\n",
              "0  0.840261 -1.088160  4.861744  4.273055  4.312457 -0.137834  0.076453\n",
              "1  1.320591 -1.174113  5.247360  3.295027  4.283410 -0.363759 -0.170605\n",
              "2  1.537909 -1.175882  5.556251  3.394183  3.971574 -0.888398  0.080617\n",
              "3  0.363552 -1.130608  4.329890  5.547488  4.539732  0.342330  0.251953\n",
              "4  1.567938 -1.114719  5.542104  2.493071  4.156157 -0.609694 -0.291367"
            ],
            "text/html": [
              "\n",
              "  <div id=\"df-15d4b915-13fc-4876-ac98-8d6c4d6a4ffd\">\n",
              "    <div class=\"colab-df-container\">\n",
              "      <div>\n",
              "<style scoped>\n",
              "    .dataframe tbody tr th:only-of-type {\n",
              "        vertical-align: middle;\n",
              "    }\n",
              "\n",
              "    .dataframe tbody tr th {\n",
              "        vertical-align: top;\n",
              "    }\n",
              "\n",
              "    .dataframe thead th {\n",
              "        text-align: right;\n",
              "    }\n",
              "</style>\n",
              "<table border=\"1\" class=\"dataframe\">\n",
              "  <thead>\n",
              "    <tr style=\"text-align: right;\">\n",
              "      <th></th>\n",
              "      <th>x1</th>\n",
              "      <th>x2</th>\n",
              "      <th>x3</th>\n",
              "      <th>x4</th>\n",
              "      <th>x5</th>\n",
              "      <th>x6</th>\n",
              "      <th>x7</th>\n",
              "    </tr>\n",
              "  </thead>\n",
              "  <tbody>\n",
              "    <tr>\n",
              "      <th>0</th>\n",
              "      <td>0.840261</td>\n",
              "      <td>-1.088160</td>\n",
              "      <td>4.861744</td>\n",
              "      <td>4.273055</td>\n",
              "      <td>4.312457</td>\n",
              "      <td>-0.137834</td>\n",
              "      <td>0.076453</td>\n",
              "    </tr>\n",
              "    <tr>\n",
              "      <th>1</th>\n",
              "      <td>1.320591</td>\n",
              "      <td>-1.174113</td>\n",
              "      <td>5.247360</td>\n",
              "      <td>3.295027</td>\n",
              "      <td>4.283410</td>\n",
              "      <td>-0.363759</td>\n",
              "      <td>-0.170605</td>\n",
              "    </tr>\n",
              "    <tr>\n",
              "      <th>2</th>\n",
              "      <td>1.537909</td>\n",
              "      <td>-1.175882</td>\n",
              "      <td>5.556251</td>\n",
              "      <td>3.394183</td>\n",
              "      <td>3.971574</td>\n",
              "      <td>-0.888398</td>\n",
              "      <td>0.080617</td>\n",
              "    </tr>\n",
              "    <tr>\n",
              "      <th>3</th>\n",
              "      <td>0.363552</td>\n",
              "      <td>-1.130608</td>\n",
              "      <td>4.329890</td>\n",
              "      <td>5.547488</td>\n",
              "      <td>4.539732</td>\n",
              "      <td>0.342330</td>\n",
              "      <td>0.251953</td>\n",
              "    </tr>\n",
              "    <tr>\n",
              "      <th>4</th>\n",
              "      <td>1.567938</td>\n",
              "      <td>-1.114719</td>\n",
              "      <td>5.542104</td>\n",
              "      <td>2.493071</td>\n",
              "      <td>4.156157</td>\n",
              "      <td>-0.609694</td>\n",
              "      <td>-0.291367</td>\n",
              "    </tr>\n",
              "  </tbody>\n",
              "</table>\n",
              "</div>\n",
              "      <button class=\"colab-df-convert\" onclick=\"convertToInteractive('df-15d4b915-13fc-4876-ac98-8d6c4d6a4ffd')\"\n",
              "              title=\"Convert this dataframe to an interactive table.\"\n",
              "              style=\"display:none;\">\n",
              "        \n",
              "  <svg xmlns=\"http://www.w3.org/2000/svg\" height=\"24px\"viewBox=\"0 0 24 24\"\n",
              "       width=\"24px\">\n",
              "    <path d=\"M0 0h24v24H0V0z\" fill=\"none\"/>\n",
              "    <path d=\"M18.56 5.44l.94 2.06.94-2.06 2.06-.94-2.06-.94-.94-2.06-.94 2.06-2.06.94zm-11 1L8.5 8.5l.94-2.06 2.06-.94-2.06-.94L8.5 2.5l-.94 2.06-2.06.94zm10 10l.94 2.06.94-2.06 2.06-.94-2.06-.94-.94-2.06-.94 2.06-2.06.94z\"/><path d=\"M17.41 7.96l-1.37-1.37c-.4-.4-.92-.59-1.43-.59-.52 0-1.04.2-1.43.59L10.3 9.45l-7.72 7.72c-.78.78-.78 2.05 0 2.83L4 21.41c.39.39.9.59 1.41.59.51 0 1.02-.2 1.41-.59l7.78-7.78 2.81-2.81c.8-.78.8-2.07 0-2.86zM5.41 20L4 18.59l7.72-7.72 1.47 1.35L5.41 20z\"/>\n",
              "  </svg>\n",
              "      </button>\n",
              "      \n",
              "  <style>\n",
              "    .colab-df-container {\n",
              "      display:flex;\n",
              "      flex-wrap:wrap;\n",
              "      gap: 12px;\n",
              "    }\n",
              "\n",
              "    .colab-df-convert {\n",
              "      background-color: #E8F0FE;\n",
              "      border: none;\n",
              "      border-radius: 50%;\n",
              "      cursor: pointer;\n",
              "      display: none;\n",
              "      fill: #1967D2;\n",
              "      height: 32px;\n",
              "      padding: 0 0 0 0;\n",
              "      width: 32px;\n",
              "    }\n",
              "\n",
              "    .colab-df-convert:hover {\n",
              "      background-color: #E2EBFA;\n",
              "      box-shadow: 0px 1px 2px rgba(60, 64, 67, 0.3), 0px 1px 3px 1px rgba(60, 64, 67, 0.15);\n",
              "      fill: #174EA6;\n",
              "    }\n",
              "\n",
              "    [theme=dark] .colab-df-convert {\n",
              "      background-color: #3B4455;\n",
              "      fill: #D2E3FC;\n",
              "    }\n",
              "\n",
              "    [theme=dark] .colab-df-convert:hover {\n",
              "      background-color: #434B5C;\n",
              "      box-shadow: 0px 1px 3px 1px rgba(0, 0, 0, 0.15);\n",
              "      filter: drop-shadow(0px 1px 2px rgba(0, 0, 0, 0.3));\n",
              "      fill: #FFFFFF;\n",
              "    }\n",
              "  </style>\n",
              "\n",
              "      <script>\n",
              "        const buttonEl =\n",
              "          document.querySelector('#df-15d4b915-13fc-4876-ac98-8d6c4d6a4ffd button.colab-df-convert');\n",
              "        buttonEl.style.display =\n",
              "          google.colab.kernel.accessAllowed ? 'block' : 'none';\n",
              "\n",
              "        async function convertToInteractive(key) {\n",
              "          const element = document.querySelector('#df-15d4b915-13fc-4876-ac98-8d6c4d6a4ffd');\n",
              "          const dataTable =\n",
              "            await google.colab.kernel.invokeFunction('convertToInteractive',\n",
              "                                                     [key], {});\n",
              "          if (!dataTable) return;\n",
              "\n",
              "          const docLinkHtml = 'Like what you see? Visit the ' +\n",
              "            '<a target=\"_blank\" href=https://colab.research.google.com/notebooks/data_table.ipynb>data table notebook</a>'\n",
              "            + ' to learn more about interactive tables.';\n",
              "          element.innerHTML = '';\n",
              "          dataTable['output_type'] = 'display_data';\n",
              "          await google.colab.output.renderOutput(dataTable, element);\n",
              "          const docLink = document.createElement('div');\n",
              "          docLink.innerHTML = docLinkHtml;\n",
              "          element.appendChild(docLink);\n",
              "        }\n",
              "      </script>\n",
              "    </div>\n",
              "  </div>\n",
              "  "
            ]
          },
          "metadata": {},
          "execution_count": 10
        }
      ]
    },
    {
      "cell_type": "code",
      "source": [
        "df.isna().sum() #checking if null columns present"
      ],
      "metadata": {
        "colab": {
          "base_uri": "https://localhost:8080/"
        },
        "id": "pY3EqW81ZSkH",
        "outputId": "d430d642-33be-4251-ed08-f7810a97a88f"
      },
      "execution_count": null,
      "outputs": [
        {
          "output_type": "execute_result",
          "data": {
            "text/plain": [
              "x1    0\n",
              "x2    0\n",
              "x3    0\n",
              "x4    0\n",
              "x5    0\n",
              "x6    0\n",
              "x7    0\n",
              "dtype: int64"
            ]
          },
          "metadata": {},
          "execution_count": 11
        }
      ]
    },
    {
      "cell_type": "code",
      "source": [
        "corr = df.corr() #getting correlation matrix for the dataframe"
      ],
      "metadata": {
        "id": "IGhaBSzlb1PY"
      },
      "execution_count": null,
      "outputs": []
    },
    {
      "cell_type": "code",
      "source": [
        "sns.heatmap(corr, annot = True) #plotting a heatmap of the correlation matrix"
      ],
      "metadata": {
        "colab": {
          "base_uri": "https://localhost:8080/",
          "height": 286
        },
        "id": "p454B7pXcBMt",
        "outputId": "dc9663a4-f47c-43e0-822c-54851f4f366e"
      },
      "execution_count": null,
      "outputs": [
        {
          "output_type": "execute_result",
          "data": {
            "text/plain": [
              "<matplotlib.axes._subplots.AxesSubplot at 0x7fe652d63c50>"
            ]
          },
          "metadata": {},
          "execution_count": 13
        },
        {
          "output_type": "display_data",
          "data": {
            "text/plain": [
              "<Figure size 432x288 with 2 Axes>"
            ],
            "image/png": "[encoded data removed]"
          },
          "metadata": {
            "needs_background": "light"
          }
        }
      ]
    },
    {
      "cell_type": "markdown",
      "source": [
        "We can observe that (x1, x4), (x3, x6) are highly negatively correlated."
      ],
      "metadata": {
        "id": "7t-7Kj_38cR1"
      }
    },
    {
      "cell_type": "code",
      "source": [
        "df.hist(figsize = (10,10)) #plotting histograms for all the columns of the dataframe"
      ],
      "metadata": {
        "colab": {
          "base_uri": "https://localhost:8080/",
          "height": 781
        },
        "id": "u6Ib-FiCMMGU",
        "outputId": "ffe18747-4a1b-40ce-940c-6ac9a918ff69"
      },
      "execution_count": null,
      "outputs": [
        {
          "output_type": "execute_result",
          "data": {
            "text/plain": [
              "array([[<matplotlib.axes._subplots.AxesSubplot object at 0x7fe64ff286d0>,\n",
              "        <matplotlib.axes._subplots.AxesSubplot object at 0x7fe64fedbc50>,\n",
              "        <matplotlib.axes._subplots.AxesSubplot object at 0x7fe64fe9f290>],\n",
              "       [<matplotlib.axes._subplots.AxesSubplot object at 0x7fe64fe54890>,\n",
              "        <matplotlib.axes._subplots.AxesSubplot object at 0x7fe64fe0be90>,\n",
              "        <matplotlib.axes._subplots.AxesSubplot object at 0x7fe650427c90>],\n",
              "       [<matplotlib.axes._subplots.AxesSubplot object at 0x7fe64fe1f910>,\n",
              "        <matplotlib.axes._subplots.AxesSubplot object at 0x7fe64fda42d0>,\n",
              "        <matplotlib.axes._subplots.AxesSubplot object at 0x7fe64fda4310>]],\n",
              "      dtype=object)"
            ]
          },
          "metadata": {},
          "execution_count": 14
        },
        {
          "output_type": "display_data",
          "data": {
            "text/plain": [
              "<Figure size 720x720 with 9 Axes>"
            ],
            "image/png": "[encoded data removed]"
          },
          "metadata": {
            "needs_background": "light"
          }
        }
      ]
    },
    {
      "cell_type": "markdown",
      "source": [
        "We can see that all the columns follow gaussian distribution."
      ],
      "metadata": {
        "id": "RxJ3jDWf88nF"
      }
    },
    {
      "cell_type": "code",
      "source": [
        "df = (df - df.mean())/df.std() #normalizing the data"
      ],
      "metadata": {
        "id": "x09XuT0JdKU9"
      },
      "execution_count": null,
      "outputs": []
    },
    {
      "cell_type": "code",
      "source": [
        "pca_7 = PCA(n_components = 7) #creating a PCA with 7 components"
      ],
      "metadata": {
        "id": "n5sLWc5geEHf"
      },
      "execution_count": null,
      "outputs": []
    },
    {
      "cell_type": "code",
      "source": [
        "pca_7.fit(df) #fitting it over the dataframe"
      ],
      "metadata": {
        "colab": {
          "base_uri": "https://localhost:8080/"
        },
        "id": "iy0HkVCqerUL",
        "outputId": "a4ef1d1d-3e13-4ccc-d99f-be2258fc5225"
      },
      "execution_count": null,
      "outputs": [
        {
          "output_type": "execute_result",
          "data": {
            "text/plain": [
              "PCA(n_components=7)"
            ]
          },
          "metadata": {},
          "execution_count": 21
        }
      ]
    },
    {
      "cell_type": "code",
      "source": [
        "df_pca = pca_7.transform(df) #transforming the dataframe according to the fit"
      ],
      "metadata": {
        "id": "KuPcUapqet_J"
      },
      "execution_count": null,
      "outputs": []
    },
    {
      "cell_type": "code",
      "source": [
        "pca_7.explained_variance_ratio_*100 #getting the explained variance ratio for each dimension"
      ],
      "metadata": {
        "colab": {
          "base_uri": "https://localhost:8080/"
        },
        "id": "MIQVLjeCeznZ",
        "outputId": "3b7936ee-bb25-44f2-84a1-22d0007053e8"
      },
      "execution_count": null,
      "outputs": [
        {
          "output_type": "execute_result",
          "data": {
            "text/plain": [
              "array([6.09270567e+01, 3.19460967e+01, 6.49562011e+00, 6.07238580e-01,\n",
              "       2.16027661e-02, 1.98460843e-03, 4.00494511e-04])"
            ]
          },
          "metadata": {},
          "execution_count": 23
        }
      ]
    },
    {
      "cell_type": "markdown",
      "source": [
        "We can see that the first dimension and second dimension alone make up for 60.9% and 31.9% of the total variance explained."
      ],
      "metadata": {
        "id": "JPplHrAS9dka"
      }
    },
    {
      "cell_type": "code",
      "source": [
        "np.cumsum(pca_7.explained_variance_ratio_*100) #getting cumulative sum of variance explained"
      ],
      "metadata": {
        "colab": {
          "base_uri": "https://localhost:8080/"
        },
        "id": "R08aJ2RRe6Ws",
        "outputId": "a7789824-6a70-44f3-f699-5d420822d0c3"
      },
      "execution_count": null,
      "outputs": [
        {
          "output_type": "execute_result",
          "data": {
            "text/plain": [
              "array([ 60.92705672,  92.87315344,  99.36877355,  99.97601213,\n",
              "        99.9976149 ,  99.99959951, 100.        ])"
            ]
          },
          "metadata": {},
          "execution_count": 24
        }
      ]
    },
    {
      "cell_type": "code",
      "source": [
        "plt.plot(np.cumsum(pca_7.explained_variance_ratio_*100)) #plotting the cumulative sum of explained variance"
      ],
      "metadata": {
        "colab": {
          "base_uri": "https://localhost:8080/",
          "height": 282
        },
        "id": "3hFu-pd3fIRH",
        "outputId": "006ed116-c4b8-4e81-9b56-9dfa985ed70e"
      },
      "execution_count": null,
      "outputs": [
        {
          "output_type": "execute_result",
          "data": {
            "text/plain": [
              "[<matplotlib.lines.Line2D at 0x7fe64cd3bf50>]"
            ]
          },
          "metadata": {},
          "execution_count": 25
        },
        {
          "output_type": "display_data",
          "data": {
            "text/plain": [
              "<Figure size 432x288 with 1 Axes>"
            ],
            "image/png": "[encoded data removed]"
          },
          "metadata": {
            "needs_background": "light"
          }
        }
      ]
    },
    {
      "cell_type": "markdown",
      "source": [
        "We can see the first three dimensions explain more than 99% of the variance explained."
      ],
      "metadata": {
        "id": "-BlIZDKu9__F"
      }
    },
    {
      "cell_type": "code",
      "source": [
        "dims = [1,2,3,4]\n",
        "\n",
        "#running a loop and computing the MSE for reconstruction w.r.t different no of PCA dimensions\n",
        "\n",
        "for i in dims:\n",
        "  pca_k = PCA(n_components = i, random_state = 2022)\n",
        "  pca_k.fit(df)\n",
        "  df_pca_k = pca_k.transform(df)\n",
        "  df_pca_k_r = pca_k.inverse_transform(df_pca_k)\n",
        "  print('Mean Squared Error for PCA dimensions =',i,'= ',mean_squared_error(df, df_pca_k_r))"
      ],
      "metadata": {
        "colab": {
          "base_uri": "https://localhost:8080/"
        },
        "id": "LSP2Do7sZ_-Q",
        "outputId": "7541ca10-6278-47a8-8c6c-584cc1acfb22"
      },
      "execution_count": null,
      "outputs": [
        {
          "output_type": "stream",
          "name": "stdout",
          "text": [
            "Mean Squared Error for PCA dimensions = 1 =  0.3886729621311219\n",
            "Mean Squared Error for PCA dimensions = 2 =  0.07089336836641909\n",
            "Mean Squared Error for PCA dimensions = 3 =  0.006279042040781368\n",
            "Mean Squared Error for PCA dimensions = 4 =  0.00023861617076931428\n"
          ]
        }
      ]
    },
    {
      "cell_type": "markdown",
      "source": [
        "After reconstructing the data with 1, 2, 3 and 4 dimensions we can even for 2 dimensions the MSE is very low and it further decreases 1e-3 for 3 dimensions."
      ],
      "metadata": {
        "id": "pKQZwBez-Po2"
      }
    },
    {
      "cell_type": "code",
      "source": [
        ""
      ],
      "metadata": {
        "id": "RmPyn6d_TuD4"
      },
      "execution_count": null,
      "outputs": []
    }
  ]
}